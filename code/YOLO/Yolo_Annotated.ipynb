{
 "cells": [
  {
   "cell_type": "code",
   "execution_count": 1,
   "metadata": {},
   "outputs": [],
   "source": [
    "import torch\n",
    "from IPython.display import Image  # for displaying images\n",
    "import os \n",
    "import random\n",
    "import shutil\n",
    "from sklearn.model_selection import train_test_split\n",
    "import xml.etree.ElementTree as ET\n",
    "from xml.dom import minidom\n",
    "from tqdm import tqdm\n",
    "from PIL import Image, ImageDraw\n",
    "import numpy as np\n",
    "import matplotlib.pyplot as plt\n",
    "\n",
    "random.seed(108)"
   ]
  },
  {
   "cell_type": "code",
   "execution_count": null,
   "metadata": {},
   "outputs": [],
   "source": [
    "# Clone the YOLOv7 repository\n",
    "# !git clone https://github.com/WongKinYiu/yolov7.git\n"
   ]
  },
  {
   "cell_type": "code",
   "execution_count": 3,
   "metadata": {},
   "outputs": [],
   "source": [
    "os.chdir(\"C:/Users/Anuj Bohra/Desktop/IIT_Patna/code/yolov7\")"
   ]
  },
  {
   "cell_type": "code",
   "execution_count": 6,
   "metadata": {},
   "outputs": [],
   "source": [
    "# !pip install -r \"C:\\Users\\Anuj Bohra\\Desktop\\IIT_Patna\\code\\YOLO\\yolov7\\requirements.txt\""
   ]
  },
  {
   "cell_type": "code",
   "execution_count": 7,
   "metadata": {},
   "outputs": [
    {
     "name": "stderr",
     "output_type": "stream",
     "text": [
      "  % Total    % Received % Xferd  Average Speed   Time    Time     Time  Current\n",
      "                                 Dload  Upload   Total   Spent    Left  Speed\n",
      "\n",
      "  0     0    0     0    0     0      0      0 --:--:-- --:--:-- --:--:--     0\n",
      "  0     0    0     0    0     0      0      0 --:--:-- --:--:-- --:--:--     0\n",
      "  0     0    0     0    0     0      0      0 --:--:-- --:--:-- --:--:--     0\n",
      "\n",
      "  0 72.0M    0 21896    0     0  11270      0  1:51:46  0:00:01  1:51:45 11270\n",
      "  4 72.0M    4 3120k    0     0  1427k      0  0:00:51  0:00:02  0:00:49 12.4M\n",
      " 38 72.0M   38 27.5M    0     0  8844k      0  0:00:08  0:00:03  0:00:05 22.0M\n",
      " 74 72.0M   74 54.0M    0     0  12.9M      0  0:00:05  0:00:04  0:00:01 24.1M\n",
      "100 72.0M  100 72.0M    0     0  14.4M      0  0:00:04  0:00:04 --:--:-- 23.7M\n"
     ]
    }
   ],
   "source": [
    "# Example: Download yolov7 pre-trained weights\n",
    "!curl -L -o yolov7.pt https://github.com/WongKinYiu/yolov7/releases/download/v0.1/yolov7.pt\n"
   ]
  },
  {
   "cell_type": "code",
   "execution_count": null,
   "metadata": {},
   "outputs": [],
   "source": []
  },
  {
   "cell_type": "code",
   "execution_count": 8,
   "metadata": {},
   "outputs": [
    {
     "name": "stdout",
     "output_type": "stream",
     "text": [
      " Volume in drive C is Windows\n",
      " Volume Serial Number is EC92-3AED\n",
      "\n",
      " Directory of C:\\Users\\Anuj Bohra\\Desktop\\IIT_Patna\\code\\yolov7\n",
      "\n",
      "18-07-2024  14:04    <DIR>          .\n",
      "18-07-2024  13:57    <DIR>          ..\n",
      "18-07-2024  13:51             4,325 .gitignore\n",
      "18-07-2024  13:51    <DIR>          cfg\n",
      "18-07-2024  13:51    <DIR>          data\n",
      "18-07-2024  13:51    <DIR>          deploy\n",
      "18-07-2024  13:51             9,523 detect.py\n",
      "18-07-2024  13:51             9,367 export.py\n",
      "18-07-2024  13:51    <DIR>          figure\n",
      "18-07-2024  10:23    <DIR>          GroceryItemsAnnotatedImages\n",
      "18-07-2024  13:51             3,680 hubconf.py\n",
      "18-07-2024  13:51    <DIR>          inference\n",
      "18-07-2024  13:51            35,823 LICENSE.md\n",
      "18-07-2024  13:51    <DIR>          models\n",
      "18-07-2024  13:51    <DIR>          paper\n",
      "18-07-2024  13:51            15,056 README.md\n",
      "18-07-2024  13:51               997 requirements.txt\n",
      "18-07-2024  13:51    <DIR>          scripts\n",
      "18-07-2024  13:51            17,634 test.py\n",
      "18-07-2024  13:51    <DIR>          tools\n",
      "18-07-2024  13:51            38,738 train.py\n",
      "18-07-2024  13:51            38,134 train_aux.py\n",
      "18-07-2024  13:51    <DIR>          utils\n",
      "18-07-2024  14:04        75,587,165 yolov7.pt\n",
      "              11 File(s)     75,760,442 bytes\n",
      "              13 Dir(s)  15,016,665,088 bytes free\n"
     ]
    }
   ],
   "source": [
    "!dir"
   ]
  },
  {
   "cell_type": "code",
   "execution_count": 9,
   "metadata": {},
   "outputs": [],
   "source": [
    "!python train.py --weights yolov7.pt --cfg cfg/training/yolov7.yaml --data \"C:\\Users\\Anuj Bohra\\Desktop\\IIT_Patna\\code\\yolov7\\GroceryItemsAnnotatedImages\\data.yaml\" --epochs 5 --batch-size 16 --img-size 640 640\n"
   ]
  },
  {
   "cell_type": "code",
   "execution_count": null,
   "metadata": {},
   "outputs": [],
   "source": [
    "!dir\n"
   ]
  },
  {
   "cell_type": "code",
   "execution_count": null,
   "metadata": {},
   "outputs": [],
   "source": [
    "!cd yolov7"
   ]
  },
  {
   "cell_type": "code",
   "execution_count": null,
   "metadata": {},
   "outputs": [],
   "source": [
    "!dir"
   ]
  },
  {
   "cell_type": "code",
   "execution_count": 10,
   "metadata": {},
   "outputs": [
    {
     "name": "stdout",
     "output_type": "stream",
     "text": [
      "False\n"
     ]
    }
   ],
   "source": [
    "import torch\n",
    "print(torch.cuda.is_available()) "
   ]
  },
  {
   "cell_type": "code",
   "execution_count": 11,
   "metadata": {},
   "outputs": [],
   "source": [
    "device = 'cpu'\n"
   ]
  },
  {
   "cell_type": "code",
   "execution_count": 13,
   "metadata": {},
   "outputs": [
    {
     "name": "stdout",
     "output_type": "stream",
     "text": [
      "^C\n",
      "Requirement already satisfied: torch in c:\\users\\anuj bohra\\anaconda3\\envs\\cv_env\\lib\\site-packages (2.3.1)\n",
      "Requirement already satisfied: torchvision in c:\\users\\anuj bohra\\anaconda3\\envs\\cv_env\\lib\\site-packages (0.18.1)\n",
      "Requirement already satisfied: torchaudio in c:\\users\\anuj bohra\\anaconda3\\envs\\cv_env\\lib\\site-packages (2.3.1)\n",
      "Requirement already satisfied: filelock in c:\\users\\anuj bohra\\anaconda3\\envs\\cv_env\\lib\\site-packages (from torch) (3.15.4)\n",
      "Requirement already satisfied: typing-extensions>=4.8.0 in c:\\users\\anuj bohra\\anaconda3\\envs\\cv_env\\lib\\site-packages (from torch) (4.12.2)\n",
      "Requirement already satisfied: sympy in c:\\users\\anuj bohra\\anaconda3\\envs\\cv_env\\lib\\site-packages (from torch) (1.13.0)\n",
      "Requirement already satisfied: networkx in c:\\users\\anuj bohra\\anaconda3\\envs\\cv_env\\lib\\site-packages (from torch) (3.3)\n",
      "Requirement already satisfied: jinja2 in c:\\users\\anuj bohra\\anaconda3\\envs\\cv_env\\lib\\site-packages (from torch) (3.1.4)\n",
      "Requirement already satisfied: fsspec in c:\\users\\anuj bohra\\anaconda3\\envs\\cv_env\\lib\\site-packages (from torch) (2024.6.1)\n",
      "Requirement already satisfied: mkl<=2021.4.0,>=2021.1.1 in c:\\users\\anuj bohra\\anaconda3\\envs\\cv_env\\lib\\site-packages (from torch) (2021.4.0)\n",
      "Requirement already satisfied: numpy in c:\\users\\anuj bohra\\anaconda3\\envs\\cv_env\\lib\\site-packages (from torchvision) (1.23.5)\n",
      "Requirement already satisfied: pillow!=8.3.*,>=5.3.0 in c:\\users\\anuj bohra\\anaconda3\\envs\\cv_env\\lib\\site-packages (from torchvision) (10.3.0)\n",
      "Requirement already satisfied: intel-openmp==2021.* in c:\\users\\anuj bohra\\anaconda3\\envs\\cv_env\\lib\\site-packages (from mkl<=2021.4.0,>=2021.1.1->torch) (2021.4.0)\n",
      "Requirement already satisfied: tbb==2021.* in c:\\users\\anuj bohra\\anaconda3\\envs\\cv_env\\lib\\site-packages (from mkl<=2021.4.0,>=2021.1.1->torch) (2021.13.0)\n",
      "Requirement already satisfied: MarkupSafe>=2.0 in c:\\users\\anuj bohra\\anaconda3\\envs\\cv_env\\lib\\site-packages (from jinja2->torch) (2.1.5)\n",
      "Requirement already satisfied: mpmath<1.4,>=1.1.0 in c:\\users\\anuj bohra\\anaconda3\\envs\\cv_env\\lib\\site-packages (from sympy->torch) (1.3.0)\n"
     ]
    }
   ],
   "source": [
    "%pip uninstall torch torchvision torchaudio\n",
    "%pip install torch torchvision torchaudio\n"
   ]
  },
  {
   "cell_type": "code",
   "execution_count": 14,
   "metadata": {},
   "outputs": [],
   "source": [
    "device = 'cpu'"
   ]
  },
  {
   "cell_type": "code",
   "execution_count": 15,
   "metadata": {},
   "outputs": [],
   "source": [
    "device = torch.device('cpu')\n"
   ]
  },
  {
   "cell_type": "code",
   "execution_count": 16,
   "metadata": {},
   "outputs": [
    {
     "name": "stdout",
     "output_type": "stream",
     "text": [
      "Using device: cpu\n"
     ]
    }
   ],
   "source": [
    "print(f\"Using device: {device}\")\n"
   ]
  },
  {
   "cell_type": "code",
   "execution_count": 17,
   "metadata": {},
   "outputs": [
    {
     "name": "stdout",
     "output_type": "stream",
     "text": [
      "^C\n"
     ]
    },
    {
     "name": "stdout",
     "output_type": "stream",
     "text": [
      "\n",
      "\u001b[34m\u001b[1mautoanchor: \u001b[0mAnalyzing anchors... anchors/target = 4.93, Best Possible Recall (BPR) = 0.9889\n"
     ]
    },
    {
     "name": "stderr",
     "output_type": "stream",
     "text": [
      "YOLOR  2024-7-18 torch 2.3.1+cpu CPU\n",
      "\n",
      "Namespace(weights='yolov7.pt', cfg='cfg/training/yolov7.yaml', data='C:/Users/Anuj Bohra/Desktop/IIT_Patna/code/yolov7/GroceryItemsAnnotatedImages/data.yaml', hyp='data/hyp.scratch.p5.yaml', epochs=1, batch_size=2, img_size=[640, 640], rect=False, resume=False, nosave=False, notest=False, noautoanchor=False, evolve=False, bucket='', cache_images=False, image_weights=False, device='cpu', multi_scale=False, single_cls=False, adam=False, sync_bn=False, local_rank=-1, workers=8, project='runs/train', entity=None, name='my_experiment', exist_ok=False, quad=False, linear_lr=False, label_smoothing=0.0, upload_dataset=False, bbox_interval=-1, save_period=-1, artifact_alias='latest', freeze=[0], v5_metric=False, world_size=1, global_rank=-1, save_dir='runs\\\\train\\\\my_experiment7', total_batch_size=2)\n",
      "\u001b[34m\u001b[1mtensorboard: \u001b[0mStart with 'tensorboard --logdir runs/train', view at http://localhost:6006/\n",
      "\u001b[34m\u001b[1mhyperparameters: \u001b[0mlr0=0.01, lrf=0.1, momentum=0.937, weight_decay=0.0005, warmup_epochs=3.0, warmup_momentum=0.8, warmup_bias_lr=0.1, box=0.05, cls=0.3, cls_pw=1.0, obj=0.7, obj_pw=1.0, iou_t=0.2, anchor_t=4.0, fl_gamma=0.0, hsv_h=0.015, hsv_s=0.7, hsv_v=0.4, degrees=0.0, translate=0.2, scale=0.9, shear=0.0, perspective=0.0, flipud=0.0, fliplr=0.5, mosaic=1.0, mixup=0.15, copy_paste=0.0, paste_in=0.15, loss_ota=1\n",
      "wandb: Currently logged in as: anujbohra10 (anujbohra10-dwarkadas-j-sanghvi-college-of-engineering). Use `wandb login --relogin` to force relogin\n",
      "wandb: - Waiting for wandb.init()...\n",
      "wandb: \\ Waiting for wandb.init()...\n",
      "wandb: Tracking run with wandb version 0.17.4\n",
      "wandb: Run data is saved locally in C:\\Users\\Anuj Bohra\\Desktop\\IIT_Patna\\code\\yolov7\\wandb\\run-20240719_101617-jrq14plo\n",
      "wandb: Run `wandb offline` to turn off syncing.\n",
      "wandb: Syncing run my_experiment7\n",
      "wandb:  View project at https://wandb.ai/anujbohra10-dwarkadas-j-sanghvi-college-of-engineering/YOLOR\n",
      "wandb:  View run at https://wandb.ai/anujbohra10-dwarkadas-j-sanghvi-college-of-engineering/YOLOR/runs/jrq14plo\n",
      "Overriding model.yaml nc=80 with nc=1816\n",
      "\n",
      "                 from  n    params  module                                  arguments                     \n",
      "  0                -1  1       928  models.common.Conv                      [3, 32, 3, 1]                 \n",
      "  1                -1  1     18560  models.common.Conv                      [32, 64, 3, 2]                \n",
      "  2                -1  1     36992  models.common.Conv                      [64, 64, 3, 1]                \n",
      "  3                -1  1     73984  models.common.Conv                      [64, 128, 3, 2]               \n",
      "  4                -1  1      8320  models.common.Conv                      [128, 64, 1, 1]               \n",
      "  5                -2  1      8320  models.common.Conv                      [128, 64, 1, 1]               \n",
      "  6                -1  1     36992  models.common.Conv                      [64, 64, 3, 1]                \n",
      "  7                -1  1     36992  models.common.Conv                      [64, 64, 3, 1]                \n",
      "  8                -1  1     36992  models.common.Conv                      [64, 64, 3, 1]                \n",
      "  9                -1  1     36992  models.common.Conv                      [64, 64, 3, 1]                \n",
      " 10  [-1, -3, -5, -6]  1         0  models.common.Concat                    [1]                           \n",
      " 11                -1  1     66048  models.common.Conv                      [256, 256, 1, 1]              \n",
      " 12                -1  1         0  models.common.MP                        []                            \n",
      " 13                -1  1     33024  models.common.Conv                      [256, 128, 1, 1]              \n",
      " 14                -3  1     33024  models.common.Conv                      [256, 128, 1, 1]              \n",
      " 15                -1  1    147712  models.common.Conv                      [128, 128, 3, 2]              \n",
      " 16          [-1, -3]  1         0  models.common.Concat                    [1]                           \n",
      " 17                -1  1     33024  models.common.Conv                      [256, 128, 1, 1]              \n",
      " 18                -2  1     33024  models.common.Conv                      [256, 128, 1, 1]              \n",
      " 19                -1  1    147712  models.common.Conv                      [128, 128, 3, 1]              \n",
      " 20                -1  1    147712  models.common.Conv                      [128, 128, 3, 1]              \n",
      " 21                -1  1    147712  models.common.Conv                      [128, 128, 3, 1]              \n",
      " 22                -1  1    147712  models.common.Conv                      [128, 128, 3, 1]              \n",
      " 23  [-1, -3, -5, -6]  1         0  models.common.Concat                    [1]                           \n",
      " 24                -1  1    263168  models.common.Conv                      [512, 512, 1, 1]              \n",
      " 25                -1  1         0  models.common.MP                        []                            \n",
      " 26                -1  1    131584  models.common.Conv                      [512, 256, 1, 1]              \n",
      " 27                -3  1    131584  models.common.Conv                      [512, 256, 1, 1]              \n",
      " 28                -1  1    590336  models.common.Conv                      [256, 256, 3, 2]              \n",
      " 29          [-1, -3]  1         0  models.common.Concat                    [1]                           \n",
      " 30                -1  1    131584  models.common.Conv                      [512, 256, 1, 1]              \n",
      " 31                -2  1    131584  models.common.Conv                      [512, 256, 1, 1]              \n",
      " 32                -1  1    590336  models.common.Conv                      [256, 256, 3, 1]              \n",
      " 33                -1  1    590336  models.common.Conv                      [256, 256, 3, 1]              \n",
      " 34                -1  1    590336  models.common.Conv                      [256, 256, 3, 1]              \n",
      " 35                -1  1    590336  models.common.Conv                      [256, 256, 3, 1]              \n",
      " 36  [-1, -3, -5, -6]  1         0  models.common.Concat                    [1]                           \n",
      " 37                -1  1   1050624  models.common.Conv                      [1024, 1024, 1, 1]            \n",
      " 38                -1  1         0  models.common.MP                        []                            \n",
      " 39                -1  1    525312  models.common.Conv                      [1024, 512, 1, 1]             \n",
      " 40                -3  1    525312  models.common.Conv                      [1024, 512, 1, 1]             \n",
      " 41                -1  1   2360320  models.common.Conv                      [512, 512, 3, 2]              \n",
      " 42          [-1, -3]  1         0  models.common.Concat                    [1]                           \n",
      " 43                -1  1    262656  models.common.Conv                      [1024, 256, 1, 1]             \n",
      " 44                -2  1    262656  models.common.Conv                      [1024, 256, 1, 1]             \n",
      " 45                -1  1    590336  models.common.Conv                      [256, 256, 3, 1]              \n",
      " 46                -1  1    590336  models.common.Conv                      [256, 256, 3, 1]              \n",
      " 47                -1  1    590336  models.common.Conv                      [256, 256, 3, 1]              \n",
      " 48                -1  1    590336  models.common.Conv                      [256, 256, 3, 1]              \n",
      " 49  [-1, -3, -5, -6]  1         0  models.common.Concat                    [1]                           \n",
      " 50                -1  1   1050624  models.common.Conv                      [1024, 1024, 1, 1]            \n",
      " 51                -1  1   7609344  models.common.SPPCSPC                   [1024, 512, 1]                \n",
      " 52                -1  1    131584  models.common.Conv                      [512, 256, 1, 1]              \n",
      " 53                -1  1         0  torch.nn.modules.upsampling.Upsample    [None, 2, 'nearest']          \n",
      " 54                37  1    262656  models.common.Conv                      [1024, 256, 1, 1]             \n",
      " 55          [-1, -2]  1         0  models.common.Concat                    [1]                           \n",
      " 56                -1  1    131584  models.common.Conv                      [512, 256, 1, 1]              \n",
      " 57                -2  1    131584  models.common.Conv                      [512, 256, 1, 1]              \n",
      " 58                -1  1    295168  models.common.Conv                      [256, 128, 3, 1]              \n",
      " 59                -1  1    147712  models.common.Conv                      [128, 128, 3, 1]              \n",
      " 60                -1  1    147712  models.common.Conv                      [128, 128, 3, 1]              \n",
      " 61                -1  1    147712  models.common.Conv                      [128, 128, 3, 1]              \n",
      " 62[-1, -2, -3, -4, -5, -6]  1         0  models.common.Concat                    [1]                           \n",
      " 63                -1  1    262656  models.common.Conv                      [1024, 256, 1, 1]             \n",
      " 64                -1  1     33024  models.common.Conv                      [256, 128, 1, 1]              \n",
      " 65                -1  1         0  torch.nn.modules.upsampling.Upsample    [None, 2, 'nearest']          \n",
      " 66                24  1     65792  models.common.Conv                      [512, 128, 1, 1]              \n",
      " 67          [-1, -2]  1         0  models.common.Concat                    [1]                           \n",
      " 68                -1  1     33024  models.common.Conv                      [256, 128, 1, 1]              \n",
      " 69                -2  1     33024  models.common.Conv                      [256, 128, 1, 1]              \n",
      " 70                -1  1     73856  models.common.Conv                      [128, 64, 3, 1]               \n",
      " 71                -1  1     36992  models.common.Conv                      [64, 64, 3, 1]                \n",
      " 72                -1  1     36992  models.common.Conv                      [64, 64, 3, 1]                \n",
      " 73                -1  1     36992  models.common.Conv                      [64, 64, 3, 1]                \n",
      " 74[-1, -2, -3, -4, -5, -6]  1         0  models.common.Concat                    [1]                           \n",
      " 75                -1  1     65792  models.common.Conv                      [512, 128, 1, 1]              \n",
      " 76                -1  1         0  models.common.MP                        []                            \n",
      " 77                -1  1     16640  models.common.Conv                      [128, 128, 1, 1]              \n",
      " 78                -3  1     16640  models.common.Conv                      [128, 128, 1, 1]              \n",
      " 79                -1  1    147712  models.common.Conv                      [128, 128, 3, 2]              \n",
      " 80      [-1, -3, 63]  1         0  models.common.Concat                    [1]                           \n",
      " 81                -1  1    131584  models.common.Conv                      [512, 256, 1, 1]              \n",
      " 82                -2  1    131584  models.common.Conv                      [512, 256, 1, 1]              \n",
      " 83                -1  1    295168  models.common.Conv                      [256, 128, 3, 1]              \n",
      " 84                -1  1    147712  models.common.Conv                      [128, 128, 3, 1]              \n",
      " 85                -1  1    147712  models.common.Conv                      [128, 128, 3, 1]              \n",
      " 86                -1  1    147712  models.common.Conv                      [128, 128, 3, 1]              \n",
      " 87[-1, -2, -3, -4, -5, -6]  1         0  models.common.Concat                    [1]                           \n",
      " 88                -1  1    262656  models.common.Conv                      [1024, 256, 1, 1]             \n",
      " 89                -1  1         0  models.common.MP                        []                            \n",
      " 90                -1  1     66048  models.common.Conv                      [256, 256, 1, 1]              \n",
      " 91                -3  1     66048  models.common.Conv                      [256, 256, 1, 1]              \n",
      " 92                -1  1    590336  models.common.Conv                      [256, 256, 3, 2]              \n",
      " 93      [-1, -3, 51]  1         0  models.common.Concat                    [1]                           \n",
      " 94                -1  1    525312  models.common.Conv                      [1024, 512, 1, 1]             \n",
      " 95                -2  1    525312  models.common.Conv                      [1024, 512, 1, 1]             \n",
      " 96                -1  1   1180160  models.common.Conv                      [512, 256, 3, 1]              \n",
      " 97                -1  1    590336  models.common.Conv                      [256, 256, 3, 1]              \n",
      " 98                -1  1    590336  models.common.Conv                      [256, 256, 3, 1]              \n",
      " 99                -1  1    590336  models.common.Conv                      [256, 256, 3, 1]              \n",
      "100[-1, -2, -3, -4, -5, -6]  1         0  models.common.Concat                    [1]                           \n",
      "101                -1  1   1049600  models.common.Conv                      [2048, 512, 1, 1]             \n",
      "102                75  1    328704  models.common.RepConv                   [128, 256, 3, 1]              \n",
      "103                88  1   1312768  models.common.RepConv                   [256, 512, 3, 1]              \n",
      "104               101  1   5246976  models.common.RepConv                   [512, 1024, 3, 1]             \n",
      "105   [102, 103, 104]  1   9824266  models.yolo.IDetect                     [1816, [[12, 16, 19, 36, 40, 28], [36, 75, 76, 55, 72, 146], [142, 110, 192, 243, 459, 401]], [256, 512, 1024]]\n",
      "c:\\Users\\Anuj Bohra\\anaconda3\\envs\\cv_env\\lib\\site-packages\\torch\\functional.py:512: UserWarning: torch.meshgrid: in an upcoming release, it will be required to pass the indexing argument. (Triggered internally at ..\\aten\\src\\ATen\\native\\TensorShape.cpp:3588.)\n",
      "  return _VF.meshgrid(tensors, **kwargs)  # type: ignore[attr-defined]\n",
      "Model Summary: 415 layers, 46986666 parameters, 46986666 gradients, 136.3 GFLOPS\n",
      "\n",
      "Transferred 552/566 items from yolov7.pt\n",
      "Scaled weight_decay = 0.0005\n",
      "Optimizer groups: 95 .bias, 95 conv.weight, 98 other\n",
      "\n",
      "\u001b[34m\u001b[1mtrain: \u001b[0mScanning 'C:\\Users\\Anuj Bohra\\Desktop\\IIT_Patna\\code\\yolov7\\GroceryItemsAnnotatedImages\\train\\labels.cache' images and labels... 4922 found, 0 missing, 0 empty, 0 corrupted: 100%|██████████| 4922/4922 [00:00<?, ?it/s]\n",
      "\u001b[34m\u001b[1mtrain: \u001b[0mScanning 'C:\\Users\\Anuj Bohra\\Desktop\\IIT_Patna\\code\\yolov7\\GroceryItemsAnnotatedImages\\train\\labels.cache' images and labels... 4922 found, 0 missing, 0 empty, 0 corrupted: 100%|██████████| 4922/4922 [00:00<?, ?it/s]\n",
      "\n",
      "\u001b[34m\u001b[1mval: \u001b[0mScanning 'C:\\Users\\Anuj Bohra\\Desktop\\IIT_Patna\\code\\yolov7\\GroceryItemsAnnotatedImages\\valid\\labels.cache' images and labels... 750 found, 0 missing, 0 empty, 0 corrupted: 100%|██████████| 750/750 [00:00<?, ?it/s]\n",
      "\u001b[34m\u001b[1mval: \u001b[0mScanning 'C:\\Users\\Anuj Bohra\\Desktop\\IIT_Patna\\code\\yolov7\\GroceryItemsAnnotatedImages\\valid\\labels.cache' images and labels... 750 found, 0 missing, 0 empty, 0 corrupted: 100%|██████████| 750/750 [00:00<?, ?it/s]\n",
      "Image sizes 640 train, 640 test\n",
      "Using 2 dataloader workers\n",
      "Logging results to runs\\train\\my_experiment7\n",
      "Starting training for 1 epochs...\n",
      "\n",
      "     Epoch   gpu_mem       box       obj       cls     total    labels  img_size\n",
      "\n",
      "  0%|          | 0/2461 [00:00<?, ?it/s]\n",
      "       0/0        0G   0.07814    0.0328   0.09797    0.2089        18       640:   0%|          | 0/2461 [00:23<?, ?it/s]\n",
      "       0/0        0G   0.07814    0.0328   0.09797    0.2089        18       640:   0%|          | 1/2461 [00:23<16:04:25, 23.52s/it]\n",
      "       0/0        0G   0.07717   0.02956   0.09923     0.206        11       640:   0%|          | 1/2461 [00:44<16:04:25, 23.52s/it]\n",
      "       0/0        0G   0.07717   0.02956   0.09923     0.206        11       640:   0%|          | 2/2461 [00:44<15:09:47, 22.20s/it]\n",
      "       0/0        0G   0.05145   0.02659   0.06616    0.1442         0       640:   0%|          | 2/2461 [01:06<15:09:47, 22.20s/it]\n",
      "       0/0        0G   0.05145   0.02659   0.06616    0.1442         0       640:   0%|          | 3/2461 [01:06<14:53:42, 21.82s/it]\n",
      "       0/0        0G    0.0617   0.02637    0.0734    0.1615        14       640:   0%|          | 3/2461 [01:27<14:53:42, 21.82s/it]\n",
      "       0/0        0G    0.0617   0.02637    0.0734    0.1615        14       640:   0%|          | 4/2461 [01:27<14:38:35, 21.46s/it]\n",
      "       0/0        0G   0.06644   0.02583   0.07907    0.1713         8       640:   0%|          | 4/2461 [01:47<14:38:35, 21.46s/it]\n",
      "       0/0        0G   0.06644   0.02583   0.07907    0.1713         8       640:   0%|          | 5/2461 [01:47<14:26:50, 21.18s/it]\n",
      "       0/0        0G   0.07189   0.02678   0.08137      0.18        53       640:   0%|          | 5/2461 [02:22<14:26:50, 21.18s/it]\n",
      "       0/0        0G   0.07189   0.02678   0.08137      0.18        53       640:   0%|          | 6/2461 [02:22<17:32:02, 25.71s/it]\n",
      "       0/0        0G   0.07252   0.02726   0.08327     0.183        16       640:   0%|          | 6/2461 [02:48<17:32:02, 25.71s/it]\n",
      "       0/0        0G   0.07252   0.02726   0.08327     0.183        16       640:   0%|          | 7/2461 [02:48<17:34:31, 25.78s/it]\n",
      "       0/0        0G   0.07077   0.02657   0.08015    0.1775         4       640:   0%|          | 7/2461 [03:13<17:34:31, 25.78s/it]\n",
      "       0/0        0G   0.07077   0.02657   0.08015    0.1775         4       640:   0%|          | 8/2461 [03:13<17:27:21, 25.62s/it]\n",
      "       0/0        0G   0.07253   0.03297   0.08175    0.1872       129       640:   0%|          | 8/2461 [05:01<17:27:21, 25.62s/it]\n",
      "       0/0        0G   0.07253   0.03297   0.08175    0.1872       129       640:   0%|          | 9/2461 [05:01<34:57:13, 51.32s/it]\n",
      "       0/0        0G   0.07297   0.03516   0.08334    0.1915        67       640:   0%|          | 9/2461 [05:32<34:57:13, 51.32s/it]\n",
      "       0/0        0G   0.07297   0.03516   0.08334    0.1915        67       640:   0%|          | 10/2461 [05:32<30:48:51, 45.26s/it]\n",
      "       0/0        0G   0.07411    0.0346   0.08503    0.1937        17       640:   0%|          | 10/2461 [06:02<30:48:51, 45.26s/it]\n",
      "       0/0        0G   0.07411    0.0346   0.08503    0.1937        17       640:   0%|          | 11/2461 [06:03<27:44:05, 40.75s/it]\n",
      "       0/0        0G   0.07547   0.03445   0.08539    0.1953        28       640:   0%|          | 11/2461 [06:30<27:44:05, 40.75s/it]\n",
      "       0/0        0G   0.07547   0.03445   0.08539    0.1953        28       640:   0%|          | 12/2461 [06:30<24:50:31, 36.52s/it]\n",
      "       0/0        0G   0.07296   0.03376   0.08368    0.1904        27       640:   0%|          | 12/2461 [06:56<24:50:31, 36.52s/it]\n",
      "       0/0        0G   0.07296   0.03376   0.08368    0.1904        27       640:   1%|          | 13/2461 [06:56<22:42:46, 33.40s/it]\n",
      "       0/0        0G   0.07158   0.03355   0.08243    0.1876        34       640:   1%|          | 13/2461 [07:21<22:42:46, 33.40s/it]\n",
      "       0/0        0G   0.07158   0.03355   0.08243    0.1876        34       640:   1%|          | 14/2461 [07:21<20:58:35, 30.86s/it]\n",
      "       0/0        0G   0.06992   0.03283   0.08106    0.1838         5       640:   1%|          | 14/2461 [07:44<20:58:35, 30.86s/it]\n",
      "       0/0        0G   0.06992   0.03283   0.08106    0.1838         5       640:   1%|          | 15/2461 [07:44<19:24:02, 28.55s/it]\n",
      "       0/0        0G   0.07071   0.03225   0.08193    0.1849         6       640:   1%|          | 15/2461 [08:07<19:24:02, 28.55s/it]\n",
      "       0/0        0G   0.07071   0.03225   0.08193    0.1849         6       640:   1%|          | 16/2461 [08:07<18:07:05, 26.68s/it]\n",
      "       0/0        0G   0.07109    0.0336   0.08272    0.1874        95       640:   1%|          | 16/2461 [08:54<18:07:05, 26.68s/it]\n",
      "       0/0        0G   0.07109    0.0336   0.08272    0.1874        95       640:   1%|          | 17/2461 [08:54<22:21:24, 32.93s/it]\n",
      "       0/0        0G   0.06956   0.03286   0.08211    0.1845         2       640:   1%|          | 17/2461 [09:20<22:21:24, 32.93s/it]\n",
      "       0/0        0G   0.06956   0.03286   0.08211    0.1845         2       640:   1%|          | 18/2461 [09:20<20:52:01, 30.75s/it]\n",
      "       0/0        0G   0.07036    0.0328   0.08294    0.1861        24       640:   1%|          | 18/2461 [09:42<20:52:01, 30.75s/it]\n",
      "       0/0        0G   0.07036    0.0328   0.08294    0.1861        24       640:   1%|          | 19/2461 [09:42<19:03:59, 28.11s/it]\n",
      "       0/0        0G   0.06951   0.03224   0.08228     0.184         3       640:   1%|          | 19/2461 [10:02<19:03:59, 28.11s/it]\n",
      "       0/0        0G   0.06951   0.03224   0.08228     0.184         3       640:   1%|          | 20/2461 [10:02<17:28:13, 25.77s/it]\n",
      "       0/0        0G   0.06932   0.03171   0.08138    0.1824        15       640:   1%|          | 20/2461 [10:23<17:28:13, 25.77s/it]\n",
      "       0/0        0G   0.06932   0.03171   0.08138    0.1824        15       640:   1%|          | 21/2461 [10:23<16:33:11, 24.42s/it]\n",
      "       0/0        0G   0.07028    0.0318    0.0822    0.1843        35       640:   1%|          | 21/2461 [10:45<16:33:11, 24.42s/it]\n",
      "       0/0        0G   0.07028    0.0318    0.0822    0.1843        35       640:   1%|          | 22/2461 [10:45<15:54:41, 23.49s/it]\n",
      "       0/0        0G    0.0701   0.03168    0.0815    0.1833        44       640:   1%|          | 22/2461 [11:06<15:54:41, 23.49s/it]\n",
      "       0/0        0G    0.0701   0.03168    0.0815    0.1833        44       640:   1%|          | 23/2461 [11:06<15:31:11, 22.92s/it]\n",
      "       0/0        0G   0.06942   0.03146   0.08098    0.1819        11       640:   1%|          | 23/2461 [11:27<15:31:11, 22.92s/it]\n",
      "       0/0        0G   0.06942   0.03146   0.08098    0.1819        11       640:   1%|          | 24/2461 [11:27<15:06:10, 22.31s/it]\n",
      "       0/0        0G   0.07053   0.03102   0.08106    0.1826         3       640:   1%|          | 24/2461 [11:48<15:06:10, 22.31s/it]\n",
      "       0/0        0G   0.07053   0.03102   0.08106    0.1826         3       640:   1%|          | 25/2461 [11:48<14:43:49, 21.77s/it]\n",
      "       0/0        0G   0.07185   0.03073   0.08164    0.1842        15       640:   1%|          | 25/2461 [12:08<14:43:49, 21.77s/it]\n",
      "       0/0        0G   0.07185   0.03073   0.08164    0.1842        15       640:   1%|          | 26/2461 [12:08<14:28:41, 21.41s/it]\n",
      "       0/0        0G   0.07223   0.03062   0.08228    0.1851        17       640:   1%|          | 26/2461 [12:29<14:28:41, 21.41s/it]\n",
      "       0/0        0G   0.07223   0.03062   0.08228    0.1851        17       640:   1%|          | 27/2461 [12:29<14:18:21, 21.16s/it]\n",
      "       0/0        0G   0.07215   0.03032   0.08336    0.1858         6       640:   1%|          | 27/2461 [12:49<14:18:21, 21.16s/it]\n",
      "       0/0        0G   0.07215   0.03032   0.08336    0.1858         6       640:   1%|          | 28/2461 [12:49<14:12:06, 21.01s/it]\n",
      "       0/0        0G   0.07154   0.03053   0.08291     0.185        29       640:   1%|          | 28/2461 [13:12<14:12:06, 21.01s/it]\n",
      "       0/0        0G   0.07154   0.03053   0.08291     0.185        29       640:   1%|          | 29/2461 [13:12<14:31:51, 21.51s/it]\n",
      "       0/0        0G   0.07142   0.03041   0.08353    0.1854        40       640:   1%|          | 29/2461 [13:37<14:31:51, 21.51s/it]\n",
      "       0/0        0G   0.07142   0.03041   0.08353    0.1854        40       640:   1%|          | 30/2461 [13:37<15:12:03, 22.51s/it]\n",
      "       0/0        0G   0.07073   0.03008   0.08292    0.1837         2       640:   1%|          | 30/2461 [13:58<15:12:03, 22.51s/it]\n",
      "       0/0        0G   0.07073   0.03008   0.08292    0.1837         2       640:   1%|▏         | 31/2461 [13:58<14:48:56, 21.95s/it]\n",
      "       0/0        0G   0.07104   0.03017   0.08339    0.1846        25       640:   1%|▏         | 31/2461 [14:20<14:48:56, 21.95s/it]\n",
      "       0/0        0G   0.07104   0.03017   0.08339    0.1846        25       640:   1%|▏         | 32/2461 [14:20<14:59:32, 22.22s/it]\n",
      "       0/0        0G   0.07111   0.03019   0.08384    0.1851        15       640:   1%|▏         | 32/2461 [14:41<14:59:32, 22.22s/it]\n",
      "       0/0        0G   0.07111   0.03019   0.08384    0.1851        15       640:   1%|▏         | 33/2461 [14:41<14:37:58, 21.70s/it]\n",
      "       0/0        0G   0.07137   0.03032    0.0842    0.1859        26       640:   1%|▏         | 33/2461 [15:01<14:37:58, 21.70s/it]\n",
      "       0/0        0G   0.07137   0.03032    0.0842    0.1859        26       640:   1%|▏         | 34/2461 [15:01<14:23:13, 21.34s/it]\n",
      "       0/0        0G   0.07036   0.03001   0.08278    0.1831         6       640:   1%|▏         | 34/2461 [15:23<14:23:13, 21.34s/it]\n",
      "       0/0        0G   0.07036   0.03001   0.08278    0.1831         6       640:   1%|▏         | 35/2461 [15:23<14:21:39, 21.31s/it]\n",
      "       0/0        0G   0.07059   0.02969   0.08218    0.1825         2       640:   1%|▏         | 35/2461 [15:44<14:21:39, 21.31s/it]\n",
      "       0/0        0G   0.07059   0.02969   0.08218    0.1825         2       640:   1%|▏         | 36/2461 [15:44<14:18:26, 21.24s/it]\n",
      "       0/0        0G   0.07085   0.02969   0.08257    0.1831        20       640:   1%|▏         | 36/2461 [16:06<14:18:26, 21.24s/it]\n",
      "       0/0        0G   0.07085   0.02969   0.08257    0.1831        20       640:   2%|▏         | 37/2461 [16:06<14:28:36, 21.50s/it]\n",
      "       0/0        0G   0.07023   0.02941   0.08203    0.1817         2       640:   2%|▏         | 37/2461 [16:28<14:28:36, 21.50s/it]\n",
      "       0/0        0G   0.07023   0.02941   0.08203    0.1817         2       640:   2%|▏         | 38/2461 [16:28<14:34:42, 21.66s/it]\n",
      "       0/0        0G   0.07074   0.03004   0.08239    0.1832       102       640:   2%|▏         | 38/2461 [16:56<14:34:42, 21.66s/it]\n",
      "       0/0        0G   0.07074   0.03004   0.08239    0.1832       102       640:   2%|▏         | 39/2461 [16:56<15:54:19, 23.64s/it]\n",
      "       0/0        0G   0.07026   0.02977   0.08206    0.1821         1       640:   2%|▏         | 39/2461 [17:16<15:54:19, 23.64s/it]\n",
      "       0/0        0G   0.07026   0.02977   0.08206    0.1821         1       640:   2%|▏         | 40/2461 [17:16<15:08:28, 22.52s/it]\n",
      "       0/0        0G    0.0704   0.03018   0.08243     0.183        57       640:   2%|▏         | 40/2461 [17:43<15:08:28, 22.52s/it]\n",
      "       0/0        0G    0.0704   0.03018   0.08243     0.183        57       640:   2%|▏         | 41/2461 [17:43<16:02:13, 23.86s/it]\n",
      "       0/0        0G   0.07009   0.03045   0.08206    0.1826        47       640:   2%|▏         | 41/2461 [18:14<16:02:13, 23.86s/it]\n",
      "       0/0        0G   0.07009   0.03045   0.08206    0.1826        47       640:   2%|▏         | 42/2461 [18:14<17:26:14, 25.95s/it]\n",
      "       0/0        0G   0.07078   0.03025   0.08245    0.1835        17       640:   2%|▏         | 42/2461 [18:57<17:26:14, 25.95s/it]\n",
      "       0/0        0G   0.07078   0.03025   0.08245    0.1835        17       640:   2%|▏         | 43/2461 [18:57<20:58:13, 31.22s/it]\n",
      "       0/0        0G   0.07084   0.03039    0.0828     0.184        48       640:   2%|▏         | 43/2461 [19:46<20:58:13, 31.22s/it]\n",
      "       0/0        0G   0.07084   0.03039    0.0828     0.184        48       640:   2%|▏         | 44/2461 [19:46<24:29:12, 36.47s/it]\n",
      "       0/0        0G   0.07084   0.03039    0.0828     0.184        48       640:   2%|▏         | 44/2461 [20:34<18:50:06, 28.05s/it]\n",
      "Traceback (most recent call last):\n",
      "  File \"C:\\Users\\Anuj Bohra\\Desktop\\IIT_Patna\\code\\yolov7\\train.py\", line 616, in <module>\n",
      "    train(hyp, opt, device, tb_writer)\n",
      "  File \"C:\\Users\\Anuj Bohra\\Desktop\\IIT_Patna\\code\\yolov7\\train.py\", line 363, in train\n",
      "    loss, loss_items = compute_loss_ota(pred, targets.to(device), imgs)  # loss scaled by batch_size\n",
      "  File \"C:\\Users\\Anuj Bohra\\Desktop\\IIT_Patna\\code\\yolov7\\utils\\loss.py\", line 702, in __call__\n",
      "    bs, as_, gjs, gis, targets, anchors = self.build_targets(p, targets, imgs)\n",
      "  File \"C:\\Users\\Anuj Bohra\\Desktop\\IIT_Patna\\code\\yolov7\\utils\\loss.py\", line 857, in build_targets\n",
      "    p_cls.float().unsqueeze(0).repeat(num_gt, 1, 1).sigmoid_()\n",
      "RuntimeError: [enforce fail at alloc_cpu.cpp:114] data. DefaultCPUAllocator: not enough memory: you tried to allocate 2530269120 bytes.\n",
      "wandb: - 0.002 MB of 0.002 MB uploaded\n",
      "wandb: \\ 0.002 MB of 0.002 MB uploaded\n",
      "wandb: | 0.002 MB of 0.002 MB uploaded\n",
      "wandb: / 0.002 MB of 0.064 MB uploaded\n",
      "wandb: - 0.002 MB of 0.064 MB uploaded\n",
      "wandb: \\ 0.007 MB of 0.064 MB uploaded\n",
      "wandb: | 0.019 MB of 0.064 MB uploaded\n",
      "wandb: / 0.019 MB of 0.064 MB uploaded\n",
      "wandb: - 0.019 MB of 0.064 MB uploaded\n",
      "wandb: \\ 0.019 MB of 0.064 MB uploaded\n",
      "wandb: | 0.019 MB of 0.064 MB uploaded\n",
      "wandb: / 0.019 MB of 0.064 MB uploaded\n",
      "wandb: - 0.019 MB of 0.064 MB uploaded\n",
      "wandb: \\ 0.019 MB of 0.064 MB uploaded\n",
      "wandb: | 0.019 MB of 0.064 MB uploaded\n",
      "wandb: / 0.019 MB of 0.064 MB uploaded\n",
      "wandb: - 0.019 MB of 0.064 MB uploaded\n",
      "wandb: \\ 0.019 MB of 0.064 MB uploaded\n",
      "wandb: | 0.019 MB of 0.064 MB uploaded\n",
      "wandb: / 0.019 MB of 0.064 MB uploaded\n",
      "wandb: - 0.019 MB of 0.064 MB uploaded\n",
      "wandb: \\ 0.019 MB of 0.064 MB uploaded\n",
      "wandb: | 0.019 MB of 0.064 MB uploaded\n",
      "wandb: / 0.019 MB of 0.064 MB uploaded\n",
      "wandb: - 0.064 MB of 0.064 MB uploaded\n",
      "wandb: \\ 0.064 MB of 0.064 MB uploaded\n",
      "wandb:  View run my_experiment7 at: https://wandb.ai/anujbohra10-dwarkadas-j-sanghvi-college-of-engineering/YOLOR/runs/jrq14plo\n",
      "wandb:  View project at: https://wandb.ai/anujbohra10-dwarkadas-j-sanghvi-college-of-engineering/YOLOR\n",
      "wandb: Synced 6 W&B file(s), 0 media file(s), 0 artifact file(s) and 0 other file(s)\n",
      "wandb: Find logs at: .\\wandb\\run-20240719_101617-jrq14plo\\logs\n",
      "wandb: WARNING The new W&B backend becomes opt-out in version 0.18.0; try it out with `wandb.require(\"core\")`! See https://wandb.me/wandb-core for more information.\n"
     ]
    }
   ],
   "source": [
    "!python train.py --img 640 --batch 2 --epochs 1 --data \"C:/Users/Anuj Bohra/Desktop/IIT_Patna/code/yolov7/GroceryItemsAnnotatedImages/data.yaml\" --cfg cfg/training/yolov7.yaml --weights yolov7.pt --project runs/train --name my_experiment --device cpu\n"
   ]
  },
  {
   "cell_type": "code",
   "execution_count": null,
   "metadata": {},
   "outputs": [],
   "source": []
  }
 ],
 "metadata": {
  "kernelspec": {
   "display_name": "cv_env",
   "language": "python",
   "name": "python3"
  },
  "language_info": {
   "codemirror_mode": {
    "name": "ipython",
    "version": 3
   },
   "file_extension": ".py",
   "mimetype": "text/x-python",
   "name": "python",
   "nbconvert_exporter": "python",
   "pygments_lexer": "ipython3",
   "version": "3.10.14"
  }
 },
 "nbformat": 4,
 "nbformat_minor": 2
}
